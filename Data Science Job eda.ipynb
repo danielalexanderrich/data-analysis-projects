{
 "cells": [
  {
   "cell_type": "markdown",
   "metadata": {},
   "source": [
    "7/16/20: This notebook is an exploratory data analysis of a set of Data Scientist job postings from glassdoor, scraped by https://github.com/picklesueat/data_jobs_data\n",
    "\n",
    "First, let's import the data and get an idea of the size of the dataset."
   ]
  },
  {
   "cell_type": "code",
   "execution_count": 2,
   "metadata": {},
   "outputs": [],
   "source": [
    "import pandas as pd\n",
    "import numpy as np\n",
    "import matplotlib.pyplot as plt\n",
    "import re\n",
    "import statistics\n",
    "import spacy\n",
    "from collections import Counter"
   ]
  },
  {
   "cell_type": "code",
   "execution_count": 3,
   "metadata": {},
   "outputs": [],
   "source": [
    "df = pd.read_csv('C:/Users/synth/Desktop/general coding/datascience.csv')\n",
    "nlp = spacy.load('en_core_web_sm')\n",
    "stop_words = spacy.lang.en.stop_words.STOP_WORDS"
   ]
  },
  {
   "cell_type": "code",
   "execution_count": 4,
   "metadata": {},
   "outputs": [
    {
     "name": "stdout",
     "output_type": "stream",
     "text": [
      "(3909, 17)\n",
      "   Unnamed: 0  index                          Job Title  \\\n",
      "0           0      0              Senior Data Scientist   \n",
      "1           1      1  Data Scientist, Product Analytics   \n",
      "\n",
      "                Salary Estimate  \\\n",
      "0  $111K-$181K (Glassdoor est.)   \n",
      "1  $111K-$181K (Glassdoor est.)   \n",
      "\n",
      "                                     Job Description  Rating    Company Name  \\\n",
      "0  ABOUT HOPPER\\r\\n\\r\\nAt Hopper, we’re on a miss...     3.5   Hopper\\r\\n3.5   \n",
      "1  At Noom, we use scientifically proven methods ...     4.5  Noom US\\r\\n4.5   \n",
      "\n",
      "       Location      Headquarters                    Size  Founded  \\\n",
      "0  New York, NY  Montreal, Canada   501 to 1000 employees     2007   \n",
      "1  New York, NY      New York, NY  1001 to 5000 employees     2008   \n",
      "\n",
      "   Type of ownership                   Industry             Sector  \\\n",
      "0  Company - Private            Travel Agencies   Travel & Tourism   \n",
      "1  Company - Private  Health, Beauty, & Fitness  Consumer Services   \n",
      "\n",
      "                    Revenue Competitors Easy Apply  \n",
      "0  Unknown / Non-Applicable          -1         -1  \n",
      "1  Unknown / Non-Applicable          -1         -1  \n"
     ]
    }
   ],
   "source": [
    "print(df.shape)\n",
    "print(df.head(2))"
   ]
  },
  {
   "cell_type": "markdown",
   "metadata": {},
   "source": [
    "Looks like we have just over 3900 job postings. Let's start by finding the most popular cities for Data Scientist job vacancies."
   ]
  },
  {
   "cell_type": "code",
   "execution_count": 5,
   "metadata": {},
   "outputs": [
    {
     "data": {
      "image/png": "[encoded data removed]",
      "text/plain": [
       "<Figure size 432x288 with 1 Axes>"
      ]
     },
     "metadata": {
      "needs_background": "light"
     },
     "output_type": "display_data"
    }
   ],
   "source": [
    "location = df['Location']\n",
    "fig,ax = plt.subplots()\n",
    "plt.title('Top 10 Cities for Data Science Job Postings')\n",
    "top10locations = location.value_counts()[0:10].plot(ax=ax, kind = 'bar')"
   ]
  },
  {
   "cell_type": "markdown",
   "metadata": {},
   "source": [
    "In our dataset, Austin, TX is the most common city. Next we will take those salary range estimates from glassdoor and get the projected median of the range. This takes some minor regex manipulation to pull the numbers. We will then plot the results."
   ]
  },
  {
   "cell_type": "code",
   "execution_count": 6,
   "metadata": {},
   "outputs": [
    {
     "name": "stdout",
     "output_type": "stream",
     "text": [
      "0    $111K-$181K (Glassdoor est.)\n",
      "1    $111K-$181K (Glassdoor est.)\n",
      "2    $111K-$181K (Glassdoor est.)\n",
      "3    $111K-$181K (Glassdoor est.)\n",
      "4    $111K-$181K (Glassdoor est.)\n",
      "Name: Salary Estimate, dtype: object\n"
     ]
    }
   ],
   "source": [
    "salary = df[\"Salary Estimate\"]\n",
    "print(salary.head())"
   ]
  },
  {
   "cell_type": "code",
   "execution_count": 7,
   "metadata": {},
   "outputs": [],
   "source": [
    "salaryRangeList = []\n",
    "\n",
    "#split on the space character to get the text range\n",
    "for i in range(len(salary)):\n",
    "    salaryRangeList.append(salary[i].split()[0])\n",
    "\n",
    "\n",
    "salaryEstimateList = []\n",
    "entryRangeList = []\n",
    "for entry in range(len(salaryRangeList)):\n",
    "    entrySalaryRange = []\n",
    "    #for every post in the dataset, split on the dash\n",
    "    post = salaryRangeList[entry]\n",
    "    splitPost = post.split('-')\n",
    "    for i in range(len(splitPost)):\n",
    "        #search for the low and high ends of the salary range\n",
    "        match = re.search(r'\\d{2,3}', splitPost[i])\n",
    "        entrySalaryRange.append(int(match.group()))\n",
    "        \n",
    "    #Then append the average and the range\n",
    "    salaryEstimateList.append(statistics.mean(entrySalaryRange))\n",
    "    entryRangeList.append((max(entrySalaryRange) - min(entrySalaryRange)))"
   ]
  },
  {
   "cell_type": "markdown",
   "metadata": {},
   "source": [
    "Now we have a single point estimate for each job posting. We also got the range, in case we need it later. Let's throw these into a data frame with the job location and use that to plot, sorting highest to lowest"
   ]
  },
  {
   "cell_type": "code",
   "execution_count": 8,
   "metadata": {},
   "outputs": [
    {
     "name": "stdout",
     "output_type": "stream",
     "text": [
      "                      Salary\n",
      "Location                    \n",
      "Rockville Centre, NY  205.00\n",
      "Queens Village, NY    205.00\n",
      "Stanford, CA          193.50\n",
      "Newark, CA            175.70\n",
      "Los Gatos, CA         171.75\n"
     ]
    }
   ],
   "source": [
    "locationSalaryRange = {\"Location\":df['Location'], \n",
    "                     \"Salary\":salaryEstimateList,\n",
    "                    \"Range\":entryRangeList}\n",
    "LSRdf = pd.DataFrame(locationSalaryRange)\n",
    "#group by location and sort by average salary estimate\n",
    "print(LSRdf.groupby(\"Location\").agg({'Salary':'mean'}).sort_values(\"Salary\",ascending=False).head())"
   ]
  },
  {
   "cell_type": "code",
   "execution_count": 9,
   "metadata": {},
   "outputs": [
    {
     "data": {
      "text/plain": [
       "<matplotlib.axes._subplots.AxesSubplot at 0x201dd3e1e80>"
      ]
     },
     "execution_count": 9,
     "metadata": {},
     "output_type": "execute_result"
    },
    {
     "data": {
      "image/png": "[encoded data removed]",
      "text/plain": [
       "<Figure size 432x288 with 1 Axes>"
      ]
     },
     "metadata": {
      "needs_background": "light"
     },
     "output_type": "display_data"
    }
   ],
   "source": [
    "aggSalFrame = LSRdf.groupby(\"Location\").agg({'Salary':'mean'}).sort_values(\"Salary\",ascending=False).head(20)\n",
    "aggSalFrame.plot.bar(title = \"Average Salary by location(Top 20 Cities)\")"
   ]
  },
  {
   "cell_type": "markdown",
   "metadata": {},
   "source": [
    "So here we have the top salaries(in thousands) by city. The next steps I want to take are to remove cities with <30 postings in order to try to get a more statistically responsible analysis of the salaries, and maybe try a sentiment analysis/find most common skills in the job description column. Then we can try to correlate skills with salary and number of postings."
   ]
  },
  {
   "cell_type": "markdown",
   "metadata": {},
   "source": [
    "7/17/2020: Let's group salaries by state and see if that gives us a better picture. We start by doing the text split procedure on the location column. I'm going to throw the city and state in their own columns and make a dataframe with the salary info we got earlier."
   ]
  },
  {
   "cell_type": "code",
   "execution_count": 11,
   "metadata": {},
   "outputs": [
    {
     "name": "stdout",
     "output_type": "stream",
     "text": [
      "0     New York, NY\n",
      "1     New York, NY\n",
      "2     New York, NY\n",
      "3    Lyndhurst, NJ\n",
      "4     New York, NY\n",
      "Name: Location, dtype: object\n",
      "[146, 146, 146, 146, 146]\n"
     ]
    }
   ],
   "source": [
    "print(location[:5])\n",
    "print(salaryEstimateList[:5])"
   ]
  },
  {
   "cell_type": "code",
   "execution_count": 12,
   "metadata": {},
   "outputs": [],
   "source": [
    "city = []\n",
    "state = []\n",
    "for i in range(len(location)):\n",
    "    city.append(location[i].split(',')[0])\n",
    "    state.append(location[i].split(',')[1])"
   ]
  },
  {
   "cell_type": "code",
   "execution_count": 13,
   "metadata": {},
   "outputs": [],
   "source": [
    "salaryAndState = {\"Salary\":salaryEstimateList, \"State\":state}\n",
    "salAndStateDF = pd.DataFrame(salaryAndState)"
   ]
  },
  {
   "cell_type": "code",
   "execution_count": 14,
   "metadata": {},
   "outputs": [
    {
     "data": {
      "text/plain": [
       "<matplotlib.axes._subplots.AxesSubplot at 0x201e16d8908>"
      ]
     },
     "execution_count": 14,
     "metadata": {},
     "output_type": "execute_result"
    },
    {
     "data": {
      "image/png": "[encoded data removed]",
      "text/plain": [
       "<Figure size 432x288 with 1 Axes>"
      ]
     },
     "metadata": {
      "needs_background": "light"
     },
     "output_type": "display_data"
    }
   ],
   "source": [
    "groupedStateDF = salAndStateDF.groupby(\"State\").agg({'Salary':'mean'}).sort_values(\"Salary\",ascending=False)\n",
    "groupedStateDF.plot.bar(title = \"Average Salary by State\")"
   ]
  },
  {
   "cell_type": "code",
   "execution_count": 15,
   "metadata": {},
   "outputs": [
    {
     "data": {
      "text/plain": [
       " TX                1253\n",
       " CA                1069\n",
       " IL                 363\n",
       " PA                 324\n",
       " NY                 313\n",
       " AZ                 295\n",
       " OH                 177\n",
       " FL                  69\n",
       " NJ                  32\n",
       " DE                  10\n",
       " United Kingdom       4\n",
       "Name: State, dtype: int64"
      ]
     },
     "execution_count": 15,
     "metadata": {},
     "output_type": "execute_result"
    }
   ],
   "source": [
    "salAndStateDF.State.value_counts()"
   ]
  },
  {
   "cell_type": "code",
   "execution_count": 16,
   "metadata": {},
   "outputs": [
    {
     "name": "stdout",
     "output_type": "stream",
     "text": [
      "0.5940138142747505\n",
      "0.3205423381939115\n"
     ]
    }
   ],
   "source": [
    "print((1253+1069)/3909)\n",
    "print(1253/3909)"
   ]
  },
  {
   "cell_type": "markdown",
   "metadata": {},
   "source": [
    "We only have 10 states (and the UK) represented, and almost 2/3s of the openings are in Texas and California alone. This is interesting to me, since \"Data Science\" seemingly saturates the online conversation about good career paths. I will have to take a look at how this was scraped. Maybe Glassdoor is just a more popular job board for companies looking for data professionals in TX and CA?"
   ]
  },
  {
   "cell_type": "markdown",
   "metadata": {},
   "source": [
    "7/18/20: Let's get into some NLP with spaCy and these job descriptions. Starting with making a dataframe with the job title and description, then dealing with one posting itself."
   ]
  },
  {
   "cell_type": "code",
   "execution_count": 17,
   "metadata": {},
   "outputs": [
    {
     "data": {
      "text/html": [
       "<div>\n",
       "<style scoped>\n",
       "    .dataframe tbody tr th:only-of-type {\n",
       "        vertical-align: middle;\n",
       "    }\n",
       "\n",
       "    .dataframe tbody tr th {\n",
       "        vertical-align: top;\n",
       "    }\n",
       "\n",
       "    .dataframe thead th {\n",
       "        text-align: right;\n",
       "    }\n",
       "</style>\n",
       "<table border=\"1\" class=\"dataframe\">\n",
       "  <thead>\n",
       "    <tr style=\"text-align: right;\">\n",
       "      <th></th>\n",
       "      <th>Job Title</th>\n",
       "      <th>Job Description</th>\n",
       "    </tr>\n",
       "  </thead>\n",
       "  <tbody>\n",
       "    <tr>\n",
       "      <th>0</th>\n",
       "      <td>Senior Data Scientist</td>\n",
       "      <td>ABOUT HOPPER\\r\\n\\r\\nAt Hopper, we’re on a miss...</td>\n",
       "    </tr>\n",
       "    <tr>\n",
       "      <th>1</th>\n",
       "      <td>Data Scientist, Product Analytics</td>\n",
       "      <td>At Noom, we use scientifically proven methods ...</td>\n",
       "    </tr>\n",
       "    <tr>\n",
       "      <th>2</th>\n",
       "      <td>Data Science Manager</td>\n",
       "      <td>Decode_M\\r\\n\\r\\nhttps://www.decode-m.com/\\r\\n\\...</td>\n",
       "    </tr>\n",
       "    <tr>\n",
       "      <th>3</th>\n",
       "      <td>Data Analyst</td>\n",
       "      <td>Sapphire Digital seeks a dynamic and driven mi...</td>\n",
       "    </tr>\n",
       "    <tr>\n",
       "      <th>4</th>\n",
       "      <td>Director, Data Science</td>\n",
       "      <td>Director, Data Science - (200537)\\r\\nDescripti...</td>\n",
       "    </tr>\n",
       "  </tbody>\n",
       "</table>\n",
       "</div>"
      ],
      "text/plain": [
       "                           Job Title  \\\n",
       "0              Senior Data Scientist   \n",
       "1  Data Scientist, Product Analytics   \n",
       "2               Data Science Manager   \n",
       "3                       Data Analyst   \n",
       "4             Director, Data Science   \n",
       "\n",
       "                                     Job Description  \n",
       "0  ABOUT HOPPER\\r\\n\\r\\nAt Hopper, we’re on a miss...  \n",
       "1  At Noom, we use scientifically proven methods ...  \n",
       "2  Decode_M\\r\\n\\r\\nhttps://www.decode-m.com/\\r\\n\\...  \n",
       "3  Sapphire Digital seeks a dynamic and driven mi...  \n",
       "4  Director, Data Science - (200537)\\r\\nDescripti...  "
      ]
     },
     "execution_count": 17,
     "metadata": {},
     "output_type": "execute_result"
    }
   ],
   "source": [
    "title = df['Job Title']\n",
    "description = df['Job Description']\n",
    "titleAndDescription = pd.DataFrame([title,description]).transpose()\n",
    "titleAndDescription.head()"
   ]
  },
  {
   "cell_type": "code",
   "execution_count": 18,
   "metadata": {},
   "outputs": [],
   "source": [
    "exampleDesc = description[1]\n",
    "exampleTitle = title[1]"
   ]
  },
  {
   "cell_type": "code",
   "execution_count": 19,
   "metadata": {},
   "outputs": [],
   "source": [
    "exseries = pd.Series(exampleDesc)\n",
    "exTseries = pd.Series(exampleTitle)"
   ]
  },
  {
   "cell_type": "code",
   "execution_count": null,
   "metadata": {},
   "outputs": [],
   "source": []
  },
  {
   "cell_type": "markdown",
   "metadata": {},
   "source": [
    "our exseries[0] object is a string, so let's play around with the NLP package on it. We could simply split on '.' to get the sentences in a list, but I reckon spaCy has more robust solutions for the weird formatting that job descriptions sometimes have (along with ways to analyze phrases)"
   ]
  },
  {
   "cell_type": "code",
   "execution_count": 20,
   "metadata": {},
   "outputs": [],
   "source": [
    "description_doc = nlp(exseries[0])\n",
    "#print([token for token in description_doc])\n",
    "#essentially calling .split() on the string"
   ]
  },
  {
   "cell_type": "code",
   "execution_count": 24,
   "metadata": {},
   "outputs": [
    {
     "name": "stdout",
     "output_type": "stream",
     "text": [
      "At Noom, we use scientifically proven methods to help our users create healthier lifestyles, and manage important conditions like Type-II Diabetes, Obesity, and Hypertension.\n",
      "Our Engineering team is at the forefront of this challenge, solving complex technical and UX problems on our mobile apps that center around habits, behavior, and lifestyle.\r\n",
      "\r\n",
      "\n",
      "We are looking for a Data Scientist to join our Data team and help us ensure that we apply the best approaches to data analysis and research, artificial intelligence, and machine learning.\r\n",
      "\r\n",
      "\n",
      "What You'll Like About Us:\r\n",
      "\n",
      "We work on problems that affect the lives of real people.\n"
     ]
    }
   ],
   "source": [
    "descSentences = list(description_doc.sents)\n",
    "len(descSentences)\n",
    "\n",
    "#show first 5 sentences\n",
    "\n",
    "for sentence in descSentences[:5]:\n",
    "    print(sentence)"
   ]
  },
  {
   "cell_type": "code",
   "execution_count": 25,
   "metadata": {},
   "outputs": [
    {
     "name": "stdout",
     "output_type": "stream",
     "text": [
      "At at\n",
      "Noom Noom\n",
      ", ,\n",
      "we -PRON-\n",
      "use use\n",
      "scientifically scientifically\n",
      "proven prove\n",
      "methods method\n",
      "to to\n",
      "help help\n"
     ]
    }
   ],
   "source": [
    "for token in description_doc[:10]:\n",
    "    print(token,token.lemma_)\n",
    "        \n",
    "    \n",
    "#lemmatization might be useful for categorizing job expectations? will investigate later"
   ]
  },
  {
   "cell_type": "code",
   "execution_count": 26,
   "metadata": {},
   "outputs": [
    {
     "name": "stdout",
     "output_type": "stream",
     "text": [
      "Non-punctuation non-stop words in description: 225\n",
      "[(Noom, 1), (use, 1), (scientifically, 1), (proven, 1), (methods, 1), (help, 1), (users, 1), (create, 1), (healthier, 1), (lifestyles, 1), (manage, 1), (important, 1), (conditions, 1), (like, 1), (Type, 1)]\n"
     ]
    }
   ],
   "source": [
    "#we should get rid of stop words/punctuation\n",
    "#and then I think this description is prepped for analysis\n",
    "description_no_stop = [token for token in description_doc\n",
    "                       if not token.is_stop and not token.is_punct]\n",
    "print(\"Non-punctuation non-stop words in description: {}\".format(len(description_no_stop)))\n",
    "\n",
    "word_freq = Counter(description_no_stop)\n",
    "common_words = word_freq.most_common(15)\n",
    "print(common_words)"
   ]
  },
  {
   "cell_type": "markdown",
   "metadata": {},
   "source": [
    "Okay, so in this description, stripping away the punctuation and stop words gives us what looks like a list of unique words (sign of a good copywriter?). I think the power of this type of analysis is going to come from aggregating multiple descriptions, which is the next step."
   ]
  },
  {
   "cell_type": "code",
   "execution_count": null,
   "metadata": {},
   "outputs": [],
   "source": []
  },
  {
   "cell_type": "code",
   "execution_count": null,
   "metadata": {},
   "outputs": [],
   "source": []
  }
 ],
 "metadata": {
  "kernelspec": {
   "display_name": "Python 3",
   "language": "python",
   "name": "python3"
  },
  "language_info": {
   "codemirror_mode": {
    "name": "ipython",
    "version": 3
   },
   "file_extension": ".py",
   "mimetype": "text/x-python",
   "name": "python",
   "nbconvert_exporter": "python",
   "pygments_lexer": "ipython3",
   "version": "3.7.1"
  }
 },
 "nbformat": 4,
 "nbformat_minor": 2
}
